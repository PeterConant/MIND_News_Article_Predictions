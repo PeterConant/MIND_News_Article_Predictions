{
 "cells": [
  {
   "cell_type": "code",
   "execution_count": 28,
   "id": "a4cf52a7-02d4-40a6-b3cb-9020c586cb86",
   "metadata": {},
   "outputs": [],
   "source": [
    "import os\n",
    "import torch\n",
    "import numpy as np\n",
    "import pandas as pd\n",
    "from tqdm import tqdm\n",
    "from pprint import pprint\n",
    "\n",
    "import networkx as nx\n",
    "import matplotlib.pyplot as plt\n",
    "from pyvis.network import Network\n",
    "from itertools import combinations\n",
    "from collections import defaultdict\n",
    "from collections import Counter"
   ]
  },
  {
   "cell_type": "code",
   "execution_count": 12,
   "id": "9c97aae6-f2e8-4a17-8a4b-ff8dc202736b",
   "metadata": {},
   "outputs": [],
   "source": [
    "working_dir = os.getcwd()\n",
    "train_news_file = os.path.join(working_dir, 'data','train','news.tsv')\n",
    "train_behavior_file = os.path.join(working_dir, 'data','train','behaviors.tsv')\n",
    "train_entity_embedding_file = os.path.join(working_dir, 'data','train','entity_embedding.vec')\n",
    "train_triplets_file = os.path.join(working_dir, 'data','train','triplets.tsv')\n",
    "\n",
    "val_news_file = os.path.join(working_dir, 'data','val','news.tsv')\n",
    "val_behavior_file = os.path.join(working_dir, 'data','val','behaviors.tsv')\n",
    "val_entity_embedding_file = os.path.join(working_dir, 'data','val','entity_embedding.vec')\n",
    "val_triplets_file = os.path.join(working_dir, 'data','val','triplets.tsv')"
   ]
  },
  {
   "cell_type": "code",
   "execution_count": 13,
   "id": "3076e632-9027-41e7-8a0e-2e65c5b21386",
   "metadata": {},
   "outputs": [],
   "source": [
    "# Load behaviors data (user-article interactions)\n",
    "behaviors = pd.read_csv(train_behavior_file,\n",
    "                       sep='\\t',\n",
    "                       header=None,\n",
    "                       names=['impression_id', 'user_id', 'time', 'history', 'impressions'])\n",
    "\n",
    "behaviors = behaviors.dropna(subset=['user_id','history','impressions'])\n",
    "\n",
    "# Process click history to get user-article pairs\n",
    "user_article_pairs = []\n",
    "for _, row in behaviors.iterrows():\n",
    "    if pd.notna(row['history']):\n",
    "        for article in row['history'].split():\n",
    "            user_article_pairs.append((row['user_id'], article))\n",
    "\n",
    "user_article_df = pd.DataFrame(user_article_pairs, columns=['user_id', 'article_id']).drop_duplicates()\n",
    "\n",
    "# Load news data (article metadata)\n",
    "news = pd.read_csv(train_news_file,\n",
    "                  sep='\\t',\n",
    "                  header=None,\n",
    "                  names=['article_id', 'category', 'subcategory', 'title', 'abstract', 'url', 'title_entities', 'abstract_entities'])\n",
    "\n",
    "# Create article-category relationships\n",
    "article_category_df = news[['article_id', 'category', 'subcategory']].drop_duplicates()"
   ]
  },
  {
   "cell_type": "code",
   "execution_count": 14,
   "id": "f051c430-7bb0-498f-ae46-014daf728340",
   "metadata": {},
   "outputs": [],
   "source": [
    "import json\n",
    "\n",
    "# Process entities from news data\n",
    "entity_triples = []\n",
    "for _, row in news.iterrows():\n",
    "    # Parse title entities\n",
    "    if pd.notna(row['title_entities']):\n",
    "        entities = json.loads(row['title_entities'])\n",
    "        for entity in entities:\n",
    "            entity_triples.append((row['article_id'], 'HAS_ENTITY', entity['WikidataId']))\n",
    "            entity_triples.append((entity['WikidataId'], 'IS_TYPE', entity['Type']))\n",
    "\n",
    "    # Parse abstract entities (similar to above)\n",
    "\n",
    "# Add these to your triples before training"
   ]
  },
  {
   "cell_type": "code",
   "execution_count": 15,
   "id": "e7cdfd39-9eb2-464b-a09b-d254a650f222",
   "metadata": {},
   "outputs": [],
   "source": [
    "# User-article triples\n",
    "user_article_triples = [(user, 'CLICKS', article) for user, article in user_article_pairs]\n",
    "\n",
    "# Article-category triples\n",
    "article_category_triples = [(row['article_id'], 'BELONGS_TO', row['category'])\n",
    "                           for _, row in article_category_df.iterrows()]\n",
    "\n",
    "# Combine all triples\n",
    "triples = user_article_triples + article_category_triples + entity_triples"
   ]
  },
  {
   "cell_type": "markdown",
   "id": "87994f7d-c789-47f3-b454-04cc05788584",
   "metadata": {},
   "source": [
    "# User-News Interaction Graph"
   ]
  },
  {
   "cell_type": "code",
   "execution_count": 16,
   "id": "48d416ce-16ef-4eff-91f0-27fbb8e98df1",
   "metadata": {},
   "outputs": [],
   "source": [
    "user_article_G = nx.Graph()\n",
    "user_article_G.add_edges_from(user_article_pairs)  # or similar for user-article-category, etc."
   ]
  },
  {
   "cell_type": "code",
   "execution_count": 18,
   "id": "7629ed8c-36cb-4acc-98fe-32345a5d9e19",
   "metadata": {},
   "outputs": [
    {
     "name": "stdout",
     "output_type": "stream",
     "text": [
      "Article Node: N306, Degree: 4747\n",
      "Article Node: N42620, Degree: 3998\n",
      "Article Node: N45794, Degree: 3283\n",
      "Article Node: N31801, Degree: 3207\n",
      "Article Node: N55189, Degree: 3045\n"
     ]
    }
   ],
   "source": [
    "article_nodes = [(node, deg) for node, deg in user_article_G.degree if str(node).startswith('N')]\n",
    "\n",
    "# Get top 5 articles\n",
    "top_5_articles = sorted(article_nodes, key=lambda x: x[1], reverse=True)[:5]\n",
    "\n",
    "for node, degree in top_5_articles:\n",
    "    print(f\"Article Node: {node}, Degree: {degree}\")"
   ]
  },
  {
   "cell_type": "code",
   "execution_count": 19,
   "id": "c4dcbf6c-c2a7-4c2a-8ad6-a86ef813decb",
   "metadata": {},
   "outputs": [
    {
     "data": {
      "text/html": [
       "<div>\n",
       "<style scoped>\n",
       "    .dataframe tbody tr th:only-of-type {\n",
       "        vertical-align: middle;\n",
       "    }\n",
       "\n",
       "    .dataframe tbody tr th {\n",
       "        vertical-align: top;\n",
       "    }\n",
       "\n",
       "    .dataframe thead th {\n",
       "        text-align: right;\n",
       "    }\n",
       "</style>\n",
       "<table border=\"1\" class=\"dataframe\">\n",
       "  <thead>\n",
       "    <tr style=\"text-align: right;\">\n",
       "      <th></th>\n",
       "      <th>article_id</th>\n",
       "      <th>category</th>\n",
       "      <th>subcategory</th>\n",
       "      <th>title</th>\n",
       "      <th>abstract</th>\n",
       "      <th>url</th>\n",
       "      <th>title_entities</th>\n",
       "      <th>abstract_entities</th>\n",
       "    </tr>\n",
       "  </thead>\n",
       "  <tbody>\n",
       "    <tr>\n",
       "      <th>0</th>\n",
       "      <td>N306</td>\n",
       "      <td>movies</td>\n",
       "      <td>movies-celebrity</td>\n",
       "      <td>Kevin Spacey Won't Be Charged in Sexual Assaul...</td>\n",
       "      <td>The Los Angeles County District Attorney's Off...</td>\n",
       "      <td>https://assets.msn.com/labs/mind/AAJy6rv.html</td>\n",
       "      <td>[{\"Label\": \"Kevin Spacey\", \"Type\": \"P\", \"Wikid...</td>\n",
       "      <td>[{\"Label\": \"Kevin Spacey\", \"Type\": \"P\", \"Wikid...</td>\n",
       "    </tr>\n",
       "    <tr>\n",
       "      <th>1</th>\n",
       "      <td>N42620</td>\n",
       "      <td>lifestyle</td>\n",
       "      <td>lifestylebuzz</td>\n",
       "      <td>Heidi Klum's 2019 Halloween Costume Transforma...</td>\n",
       "      <td>You might say she's scary good at playing dres...</td>\n",
       "      <td>https://assets.msn.com/labs/mind/AAJFlhi.html</td>\n",
       "      <td>[{\"Label\": \"Heidi Klum\", \"Type\": \"P\", \"Wikidat...</td>\n",
       "      <td>[{\"Label\": \"Heidi Klum\", \"Type\": \"P\", \"Wikidat...</td>\n",
       "    </tr>\n",
       "    <tr>\n",
       "      <th>2</th>\n",
       "      <td>N45794</td>\n",
       "      <td>news</td>\n",
       "      <td>newscrime</td>\n",
       "      <td>Four flight attendants were arrested in Miami'...</td>\n",
       "      <td>Four American Airlines flight attendants were ...</td>\n",
       "      <td>https://assets.msn.com/labs/mind/AAJcQKF.html</td>\n",
       "      <td>[]</td>\n",
       "      <td>[{\"Label\": \"Miami International Airport\", \"Typ...</td>\n",
       "    </tr>\n",
       "    <tr>\n",
       "      <th>3</th>\n",
       "      <td>N31801</td>\n",
       "      <td>news</td>\n",
       "      <td>newspolitics</td>\n",
       "      <td>Joe Biden reportedly denied Communion at a Sou...</td>\n",
       "      <td>Joe Biden has a complicated history with the C...</td>\n",
       "      <td>https://assets.msn.com/labs/mind/AAJwml6.html</td>\n",
       "      <td>[{\"Label\": \"Joe Biden\", \"Type\": \"P\", \"Wikidata...</td>\n",
       "      <td>[{\"Label\": \"Catholic Church\", \"Type\": \"O\", \"Wi...</td>\n",
       "    </tr>\n",
       "    <tr>\n",
       "      <th>4</th>\n",
       "      <td>N55189</td>\n",
       "      <td>tv</td>\n",
       "      <td>tvnews</td>\n",
       "      <td>'Wheel Of Fortune' Guest Delivers Hilarious, O...</td>\n",
       "      <td>We'd like to solve the puzzle, Pat: Blair Davi...</td>\n",
       "      <td>https://assets.msn.com/labs/mind/AAIORni.html</td>\n",
       "      <td>[]</td>\n",
       "      <td>[{\"Label\": \"Pat Sajak\", \"Type\": \"P\", \"Wikidata...</td>\n",
       "    </tr>\n",
       "  </tbody>\n",
       "</table>\n",
       "</div>"
      ],
      "text/plain": [
       "  article_id   category       subcategory  \\\n",
       "0       N306     movies  movies-celebrity   \n",
       "1     N42620  lifestyle     lifestylebuzz   \n",
       "2     N45794       news         newscrime   \n",
       "3     N31801       news      newspolitics   \n",
       "4     N55189         tv            tvnews   \n",
       "\n",
       "                                               title  \\\n",
       "0  Kevin Spacey Won't Be Charged in Sexual Assaul...   \n",
       "1  Heidi Klum's 2019 Halloween Costume Transforma...   \n",
       "2  Four flight attendants were arrested in Miami'...   \n",
       "3  Joe Biden reportedly denied Communion at a Sou...   \n",
       "4  'Wheel Of Fortune' Guest Delivers Hilarious, O...   \n",
       "\n",
       "                                            abstract  \\\n",
       "0  The Los Angeles County District Attorney's Off...   \n",
       "1  You might say she's scary good at playing dres...   \n",
       "2  Four American Airlines flight attendants were ...   \n",
       "3  Joe Biden has a complicated history with the C...   \n",
       "4  We'd like to solve the puzzle, Pat: Blair Davi...   \n",
       "\n",
       "                                             url  \\\n",
       "0  https://assets.msn.com/labs/mind/AAJy6rv.html   \n",
       "1  https://assets.msn.com/labs/mind/AAJFlhi.html   \n",
       "2  https://assets.msn.com/labs/mind/AAJcQKF.html   \n",
       "3  https://assets.msn.com/labs/mind/AAJwml6.html   \n",
       "4  https://assets.msn.com/labs/mind/AAIORni.html   \n",
       "\n",
       "                                      title_entities  \\\n",
       "0  [{\"Label\": \"Kevin Spacey\", \"Type\": \"P\", \"Wikid...   \n",
       "1  [{\"Label\": \"Heidi Klum\", \"Type\": \"P\", \"Wikidat...   \n",
       "2                                                 []   \n",
       "3  [{\"Label\": \"Joe Biden\", \"Type\": \"P\", \"Wikidata...   \n",
       "4                                                 []   \n",
       "\n",
       "                                   abstract_entities  \n",
       "0  [{\"Label\": \"Kevin Spacey\", \"Type\": \"P\", \"Wikid...  \n",
       "1  [{\"Label\": \"Heidi Klum\", \"Type\": \"P\", \"Wikidat...  \n",
       "2  [{\"Label\": \"Miami International Airport\", \"Typ...  \n",
       "3  [{\"Label\": \"Catholic Church\", \"Type\": \"O\", \"Wi...  \n",
       "4  [{\"Label\": \"Pat Sajak\", \"Type\": \"P\", \"Wikidata...  "
      ]
     },
     "execution_count": 19,
     "metadata": {},
     "output_type": "execute_result"
    }
   ],
   "source": [
    "top_article_ids = ['N306', 'N42620', 'N45794', 'N31801', 'N55189']\n",
    "most_pop_articles = news[news['article_id'].isin(top_article_ids)]\n",
    "most_pop_articles = most_pop_articles.set_index('article_id').loc[top_article_ids].reset_index()\n",
    "most_pop_articles"
   ]
  },
  {
   "cell_type": "markdown",
   "id": "606bb186-930f-4667-86ff-58d28ebb9b23",
   "metadata": {},
   "source": [
    "# User to User Communities"
   ]
  },
  {
   "cell_type": "code",
   "execution_count": 67,
   "id": "33b9c239-fe27-4740-8b3b-6259128b7a3a",
   "metadata": {},
   "outputs": [],
   "source": [
    "user_click_counts = Counter()\n",
    "\n",
    "user_article_triples = pd.DataFrame(user_article_triples).drop_duplicates().values.tolist()\n",
    "\n",
    "for user_id, relation, article_id in user_article_triples:\n",
    "    user_click_counts[user_id] += 1\n",
    "        \n",
    "top_25_users1 = set([user for user, count in user_click_counts.most_common(25)])\n",
    "\n",
    "filtered_triples = []\n",
    "for user_id, relation, article_id in triples:\n",
    "    if user_id in top_25_users and relation == \"CLICKS\":\n",
    "        filtered_triples.append((user_id, relation, article_id))"
   ]
  },
  {
   "cell_type": "code",
   "execution_count": 69,
   "id": "c657a69a-6ae7-4ba9-a9e4-42484afbda18",
   "metadata": {},
   "outputs": [
    {
     "data": {
      "text/plain": [
       "0"
      ]
     },
     "execution_count": 69,
     "metadata": {},
     "output_type": "execute_result"
    }
   ],
   "source": [
    "len(user_to_articles['U27166'])"
   ]
  },
  {
   "cell_type": "code",
   "execution_count": 68,
   "id": "c380dd31-eb4d-4a9d-ac1c-62d1058bcd7b",
   "metadata": {},
   "outputs": [],
   "source": [
    "user_to_articles = defaultdict(set)\n",
    "\n",
    "for user_id, _, article_id in filtered_triples:\n",
    "    user_to_articles[user_id].add(article_id)\n",
    "\n",
    "G_user = nx.Graph()\n",
    "\n",
    "G_user.add_nodes_from(top_25_users)\n",
    "\n",
    "# For loop AI generated\n",
    "for users in user_to_articles.values():\n",
    "    if users\n",
    "    users = list(users)\n",
    "    for i in range(len(users)):\n",
    "        for j in range(i + 1, len(users)):\n",
    "            user_i = users[i]\n",
    "            user_j = users[j]\n",
    "            if G_user.has_edge(user_i, user_j):\n",
    "                G_user[user_i][user_j]['weight'] += 1  # Increase weight if they share multiple articles\n",
    "            else:\n",
    "                G_user.add_edge(user_i, user_j, weight=1)"
   ]
  },
  {
   "cell_type": "code",
   "execution_count": 71,
   "id": "31d1d2d0-c741-40b0-a444-f824d9019b49",
   "metadata": {},
   "outputs": [
    {
     "data": {
      "image/png": "[encoded data removed]",
      "text/plain": [
       "<Figure size 1200x800 with 1 Axes>"
      ]
     },
     "metadata": {},
     "output_type": "display_data"
    }
   ],
   "source": [
    "# Visualization AI Generated\n",
    "plt.figure(figsize=(12, 8))\n",
    "pos = nx.spring_layout(G_user, seed=256)\n",
    "nx.draw_networkx_nodes(G_user, pos, node_size=500)\n",
    "nx.draw_networkx_edges(G_user, pos, width=10)\n",
    "nx.draw_networkx_labels(G_user, pos, font_size=12, font_family=\"sans-serif\")\n",
    "plt.axis('on')\n",
    "plt.show()"
   ]
  },
  {
   "cell_type": "code",
   "execution_count": 74,
   "id": "5dcfefa2-d5d9-4478-89f5-ed1d673c09a1",
   "metadata": {},
   "outputs": [
    {
     "data": {
      "text/plain": [
       "1292079"
      ]
     },
     "execution_count": 74,
     "metadata": {},
     "output_type": "execute_result"
    }
   ],
   "source": [
    "len(list(G_user.edges))"
   ]
  },
  {
   "cell_type": "code",
   "execution_count": 77,
   "id": "308b57d4-d514-4a58-a90f-ec4bc0905758",
   "metadata": {},
   "outputs": [
    {
     "data": {
      "text/plain": [
       "4944"
      ]
     },
     "execution_count": 77,
     "metadata": {},
     "output_type": "execute_result"
    }
   ],
   "source": [
    "len(list(G_user.nodes))"
   ]
  },
  {
   "cell_type": "code",
   "execution_count": 72,
   "id": "d988fb7f-150d-4acd-970f-1c5db18d120d",
   "metadata": {},
   "outputs": [
    {
     "ename": "KeyboardInterrupt",
     "evalue": "",
     "output_type": "error",
     "traceback": [
      "\u001b[31m---------------------------------------------------------------------------\u001b[39m",
      "\u001b[31mKeyboardInterrupt\u001b[39m                         Traceback (most recent call last)",
      "\u001b[36mCell\u001b[39m\u001b[36m \u001b[39m\u001b[32mIn[72]\u001b[39m\u001b[32m, line 1\u001b[39m\n\u001b[32m----> \u001b[39m\u001b[32m1\u001b[39m communities = \u001b[38;5;28mlist\u001b[39m(nx.community.girvan_newman(G_user))\n",
      "\u001b[36mFile \u001b[39m\u001b[32m~\\anaconda3\\envs\\CUDA\\Lib\\site-packages\\networkx\\algorithms\\community\\centrality.py:148\u001b[39m, in \u001b[36mgirvan_newman\u001b[39m\u001b[34m(G, most_valuable_edge)\u001b[39m\n\u001b[32m    146\u001b[39m g.remove_edges_from(nx.selfloop_edges(g))\n\u001b[32m    147\u001b[39m \u001b[38;5;28;01mwhile\u001b[39;00m g.number_of_edges() > \u001b[32m0\u001b[39m:\n\u001b[32m--> \u001b[39m\u001b[32m148\u001b[39m     \u001b[38;5;28;01myield\u001b[39;00m _without_most_central_edges(g, most_valuable_edge)\n",
      "\u001b[36mFile \u001b[39m\u001b[32m~\\anaconda3\\envs\\CUDA\\Lib\\site-packages\\networkx\\algorithms\\community\\centrality.py:167\u001b[39m, in \u001b[36m_without_most_central_edges\u001b[39m\u001b[34m(G, most_valuable_edge)\u001b[39m\n\u001b[32m    165\u001b[39m num_new_components = original_num_components\n\u001b[32m    166\u001b[39m \u001b[38;5;28;01mwhile\u001b[39;00m num_new_components <= original_num_components:\n\u001b[32m--> \u001b[39m\u001b[32m167\u001b[39m     edge = most_valuable_edge(G)\n\u001b[32m    168\u001b[39m     G.remove_edge(*edge)\n\u001b[32m    169\u001b[39m     new_components = \u001b[38;5;28mtuple\u001b[39m(nx.connected_components(G))\n",
      "\u001b[36mFile \u001b[39m\u001b[32m~\\anaconda3\\envs\\CUDA\\Lib\\site-packages\\networkx\\algorithms\\community\\centrality.py:139\u001b[39m, in \u001b[36mgirvan_newman.<locals>.most_valuable_edge\u001b[39m\u001b[34m(G)\u001b[39m\n\u001b[32m    133\u001b[39m \u001b[38;5;250m\u001b[39m\u001b[33;03m\"\"\"Returns the edge with the highest betweenness centrality\u001b[39;00m\n\u001b[32m    134\u001b[39m \u001b[33;03min the graph `G`.\u001b[39;00m\n\u001b[32m    135\u001b[39m \n\u001b[32m    136\u001b[39m \u001b[33;03m\"\"\"\u001b[39;00m\n\u001b[32m    137\u001b[39m \u001b[38;5;66;03m# We have guaranteed that the graph is non-empty, so this\u001b[39;00m\n\u001b[32m    138\u001b[39m \u001b[38;5;66;03m# dictionary will never be empty.\u001b[39;00m\n\u001b[32m--> \u001b[39m\u001b[32m139\u001b[39m betweenness = nx.edge_betweenness_centrality(G)\n\u001b[32m    140\u001b[39m \u001b[38;5;28;01mreturn\u001b[39;00m \u001b[38;5;28mmax\u001b[39m(betweenness, key=betweenness.get)\n",
      "\u001b[36mFile \u001b[39m\u001b[32m~\\anaconda3\\envs\\CUDA\\Lib\\site-packages\\networkx\\utils\\decorators.py:788\u001b[39m, in \u001b[36margmap.__call__.<locals>.func\u001b[39m\u001b[34m(_argmap__wrapper, *args, **kwargs)\u001b[39m\n\u001b[32m    787\u001b[39m \u001b[38;5;28;01mdef\u001b[39;00m\u001b[38;5;250m \u001b[39m\u001b[34mfunc\u001b[39m(*args, __wrapper=\u001b[38;5;28;01mNone\u001b[39;00m, **kwargs):\n\u001b[32m--> \u001b[39m\u001b[32m788\u001b[39m     \u001b[38;5;28;01mreturn\u001b[39;00m argmap._lazy_compile(__wrapper)(*args, **kwargs)\n",
      "\u001b[36mFile \u001b[39m\u001b[32m<class 'networkx.utils.decorators.argmap'> compilation 31:4\u001b[39m, in \u001b[36margmap_edge_betweenness_centrality_27\u001b[39m\u001b[34m(G, k, normalized, weight, seed, backend, **backend_kwargs)\u001b[39m\n\u001b[32m      2\u001b[39m \u001b[38;5;28;01mimport\u001b[39;00m\u001b[38;5;250m \u001b[39m\u001b[34;01mcollections\u001b[39;00m\n\u001b[32m      3\u001b[39m \u001b[38;5;28;01mimport\u001b[39;00m\u001b[38;5;250m \u001b[39m\u001b[34;01mgzip\u001b[39;00m\n\u001b[32m----> \u001b[39m\u001b[32m4\u001b[39m \u001b[38;5;28;01mimport\u001b[39;00m\u001b[38;5;250m \u001b[39m\u001b[34;01minspect\u001b[39;00m\n\u001b[32m      5\u001b[39m \u001b[38;5;28;01mimport\u001b[39;00m\u001b[38;5;250m \u001b[39m\u001b[34;01mitertools\u001b[39;00m\n\u001b[32m      6\u001b[39m \u001b[38;5;28;01mimport\u001b[39;00m\u001b[38;5;250m \u001b[39m\u001b[34;01mre\u001b[39;00m\n",
      "\u001b[36mFile \u001b[39m\u001b[32m~\\anaconda3\\envs\\CUDA\\Lib\\site-packages\\networkx\\utils\\backends.py:967\u001b[39m, in \u001b[36m_dispatchable.__call__\u001b[39m\u001b[34m(self, backend, *args, **kwargs)\u001b[39m\n\u001b[32m    965\u001b[39m     \u001b[38;5;28;01mif\u001b[39;00m backend \u001b[38;5;129;01mis\u001b[39;00m \u001b[38;5;129;01mnot\u001b[39;00m \u001b[38;5;28;01mNone\u001b[39;00m \u001b[38;5;129;01mand\u001b[39;00m backend != \u001b[33m\"\u001b[39m\u001b[33mnetworkx\u001b[39m\u001b[33m\"\u001b[39m:\n\u001b[32m    966\u001b[39m         \u001b[38;5;28;01mraise\u001b[39;00m \u001b[38;5;167;01mImportError\u001b[39;00m(\u001b[33mf\u001b[39m\u001b[33m\"\u001b[39m\u001b[33m'\u001b[39m\u001b[38;5;132;01m{\u001b[39;00mbackend\u001b[38;5;132;01m}\u001b[39;00m\u001b[33m'\u001b[39m\u001b[33m backend is not installed\u001b[39m\u001b[33m\"\u001b[39m)\n\u001b[32m--> \u001b[39m\u001b[32m967\u001b[39m     \u001b[38;5;28;01mreturn\u001b[39;00m \u001b[38;5;28mself\u001b[39m.orig_func(*args, **kwargs)\n\u001b[32m    969\u001b[39m \u001b[38;5;66;03m# Use `backend_name` in this function instead of `backend`.\u001b[39;00m\n\u001b[32m    970\u001b[39m \u001b[38;5;66;03m# This is purely for aesthetics and to make it easier to search for this\u001b[39;00m\n\u001b[32m    971\u001b[39m \u001b[38;5;66;03m# variable since \"backend\" is used in many comments and log/error messages.\u001b[39;00m\n\u001b[32m    972\u001b[39m backend_name = backend\n",
      "\u001b[36mFile \u001b[39m\u001b[32m~\\anaconda3\\envs\\CUDA\\Lib\\site-packages\\networkx\\algorithms\\centrality\\betweenness.py:237\u001b[39m, in \u001b[36medge_betweenness_centrality\u001b[39m\u001b[34m(G, k, normalized, weight, seed)\u001b[39m\n\u001b[32m    234\u001b[39m \u001b[38;5;28;01mfor\u001b[39;00m s \u001b[38;5;129;01min\u001b[39;00m nodes:\n\u001b[32m    235\u001b[39m     \u001b[38;5;66;03m# single source shortest paths\u001b[39;00m\n\u001b[32m    236\u001b[39m     \u001b[38;5;28;01mif\u001b[39;00m weight \u001b[38;5;129;01mis\u001b[39;00m \u001b[38;5;28;01mNone\u001b[39;00m:  \u001b[38;5;66;03m# use BFS\u001b[39;00m\n\u001b[32m--> \u001b[39m\u001b[32m237\u001b[39m         S, P, sigma, _ = _single_source_shortest_path_basic(G, s)\n\u001b[32m    238\u001b[39m     \u001b[38;5;28;01melse\u001b[39;00m:  \u001b[38;5;66;03m# use Dijkstra's algorithm\u001b[39;00m\n\u001b[32m    239\u001b[39m         S, P, sigma, _ = _single_source_dijkstra_path_basic(G, s, weight)\n",
      "\u001b[36mFile \u001b[39m\u001b[32m~\\anaconda3\\envs\\CUDA\\Lib\\site-packages\\networkx\\algorithms\\centrality\\betweenness.py:275\u001b[39m, in \u001b[36m_single_source_shortest_path_basic\u001b[39m\u001b[34m(G, s)\u001b[39m\n\u001b[32m    273\u001b[39m     Q.append(w)\n\u001b[32m    274\u001b[39m     D[w] = Dv + \u001b[32m1\u001b[39m\n\u001b[32m--> \u001b[39m\u001b[32m275\u001b[39m \u001b[38;5;28;01mif\u001b[39;00m D[w] == Dv + \u001b[32m1\u001b[39m:  \u001b[38;5;66;03m# this is a shortest path, count paths\u001b[39;00m\n\u001b[32m    276\u001b[39m     sigma[w] += sigmav\n\u001b[32m    277\u001b[39m     P[w].append(v)  \u001b[38;5;66;03m# predecessors\u001b[39;00m\n",
      "\u001b[31mKeyboardInterrupt\u001b[39m: "
     ]
    }
   ],
   "source": [
    "communities = list(nx.community.girvan_newman(G_user))"
   ]
  },
  {
   "cell_type": "code",
   "execution_count": 42,
   "id": "506424da-b478-4f97-9d19-f83d71f66442",
   "metadata": {},
   "outputs": [
    {
     "name": "stdout",
     "output_type": "stream",
     "text": [
      "Number of top 25 users who share at least one article with someone else: 25\n",
      "Total overlapping user pairs: 300\n"
     ]
    }
   ],
   "source": [
    "import itertools\n",
    "# Step 4: Check overlaps between users\n",
    "overlapping_pairs = []\n",
    "\n",
    "for user1, user2 in itertools.combinations(top_25_users, 2):\n",
    "    if user_to_articles[user1] & user_to_articles[user2]:  # set intersection\n",
    "        overlapping_pairs.append((user1, user2))\n",
    "\n",
    "# Step 5: Summarize\n",
    "users_in_overlap = set()\n",
    "for u1, u2 in overlapping_pairs:\n",
    "    users_in_overlap.add(u1)\n",
    "    users_in_overlap.add(u2)\n",
    "\n",
    "print(f\"Number of top 25 users who share at least one article with someone else: {len(users_in_overlap)}\")\n",
    "print(f\"Total overlapping user pairs: {len(overlapping_pairs)}\")"
   ]
  },
  {
   "cell_type": "code",
   "execution_count": 47,
   "id": "743ca91c-710e-42cd-98b4-5db791060e8c",
   "metadata": {},
   "outputs": [
    {
     "data": {
      "text/plain": [
       "dict_keys(['U32146', 'U67455', 'U51286', 'U83337', 'U72280', 'U54826', 'U63482', 'U93306', 'U8561', 'U79449', 'U44210', 'U20833', 'U26994', 'U79210', 'U72489', 'U27166', 'U84756', 'U59594', 'U17204', 'U44201', 'U85878', 'U42382', 'U55621', 'U69965', 'U81564'])"
      ]
     },
     "execution_count": 47,
     "metadata": {},
     "output_type": "execute_result"
    }
   ],
   "source": [
    "user_to_articles.keys()"
   ]
  }
 ],
 "metadata": {
  "kernelspec": {
   "display_name": "Python 3 (ipykernel)",
   "language": "python",
   "name": "python3"
  },
  "language_info": {
   "codemirror_mode": {
    "name": "ipython",
    "version": 3
   },
   "file_extension": ".py",
   "mimetype": "text/x-python",
   "name": "python",
   "nbconvert_exporter": "python",
   "pygments_lexer": "ipython3",
   "version": "3.12.9"
  }
 },
 "nbformat": 4,
 "nbformat_minor": 5
}
