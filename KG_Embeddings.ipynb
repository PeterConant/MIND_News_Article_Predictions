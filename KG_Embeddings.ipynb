{
 "cells": [
  {
   "cell_type": "code",
   "execution_count": 1,
   "metadata": {},
   "outputs": [],
   "source": [
    "#!pip install pykeen==1.11.0\n",
    "#!pip install class-resolver==0.5.4\n",
    "#!pip install typing-extensions==4.12.2"
   ]
  },
  {
   "cell_type": "code",
   "execution_count": 1,
   "metadata": {
    "colab": {
     "base_uri": "https://localhost:8080/",
     "height": 322
    },
    "id": "d3m3n2NUmfgG",
    "outputId": "52f5afa5-f979-404b-d489-03368e452852"
   },
   "outputs": [],
   "source": [
    "from pykeen.pipeline import pipeline\n",
    "from pykeen.triples import TriplesFactory\n",
    "from pykeen.pipeline import pipeline_from_path\n",
    "#from pykeen.models.predict import predict_tail_scores, predict_head_scores\n",
    "from pykeen.predict import predict_triples, predict_target\n",
    "from pykeen.evaluation import ClassificationEvaluator, RankBasedEvaluator\n",
    "\n",
    "import os\n",
    "import torch\n",
    "import json\n",
    "import numpy as np\n",
    "import pandas as pd\n",
    "from tqdm import tqdm\n",
    "import networkx as nx\n",
    "from pprint import pprint\n",
    "\n",
    "import numpy as np\n",
    "import matplotlib.pyplot as plt\n",
    "from sklearn.metrics import roc_curve, auc, roc_auc_score\n",
    "import torch\n",
    "from tqdm.notebook import tqdm\n",
    "import pandas as pd"
   ]
  },
  {
   "cell_type": "code",
   "execution_count": 2,
   "metadata": {
    "colab": {
     "base_uri": "https://localhost:8080/"
    },
    "id": "LfUyHnJC1_cG",
    "outputId": "a0f60105-db01-47f9-f3b3-6d419d17e14c"
   },
   "outputs": [],
   "source": [
    "#from google.colab import drive\n",
    "#drive.mount('/content/drive')"
   ]
  },
  {
   "cell_type": "code",
   "execution_count": 3,
   "metadata": {
    "colab": {
     "base_uri": "https://localhost:8080/"
    },
    "id": "asXv_phz5i0Y",
    "outputId": "6d7b8d1e-da03-4480-ec71-f354c999466d"
   },
   "outputs": [
    {
     "name": "stdout",
     "output_type": "stream",
     "text": [
      "GPU available: True\n",
      "GPU device: NVIDIA GeForce RTX 3060 Ti\n"
     ]
    }
   ],
   "source": [
    "print(f\"GPU available: {torch.cuda.is_available()}\")\n",
    "print(f\"GPU device: {torch.cuda.get_device_name(0)}\")"
   ]
  },
  {
   "cell_type": "markdown",
   "metadata": {},
   "source": [
    "# 1. Load and Preprocess Data"
   ]
  },
  {
   "cell_type": "code",
   "execution_count": 4,
   "metadata": {
    "id": "debPOKFH14_Q"
   },
   "outputs": [],
   "source": [
    "working_dir = os.getcwd()\n",
    "train_news_file = os.path.join(working_dir, 'data','train','news.tsv')\n",
    "train_behavior_file = os.path.join(working_dir, 'data','train','behaviors.tsv')\n",
    "train_entity_embedding_file = os.path.join(working_dir, 'data','train','entity_embedding.vec')\n",
    "train_triplets_file = os.path.join(working_dir, 'data','train','triplets.tsv')\n",
    "\n",
    "train_news_with_sentiment_file = os.path.join(working_dir, 'data','train','news_with_sentiment.csv')"
   ]
  },
  {
   "cell_type": "code",
   "execution_count": 5,
   "metadata": {
    "id": "wVAhC0vH1wt7"
   },
   "outputs": [],
   "source": [
    "# Load behaviors data (user-article interactions)\n",
    "behaviors = pd.read_csv(train_behavior_file,\n",
    "                       sep='\\t',\n",
    "                       header=None,\n",
    "                       names=['impression_id', 'user_id', 'time', 'history', 'impressions'])\n",
    "\n",
    "# Drop NA values\n",
    "behaviors = behaviors.dropna(subset=['user_id','history','impressions'])\n",
    "\n",
    "# Process click history to get user-article pairs\n",
    "user_article_pairs = []\n",
    "for _, row in behaviors.iterrows():\n",
    "    if pd.notna(row['history']):\n",
    "        for article in row['history'].split():\n",
    "            user_article_pairs.append((row['user_id'], article))\n",
    "\n",
    "# Remove duplicates\n",
    "user_article_df = pd.DataFrame(user_article_pairs, columns=['user_id', 'article_id']).drop_duplicates()\n",
    "\n",
    "# Load meta data (article metadata)\n",
    "news = pd.read_csv(train_news_file,\n",
    "                  sep='\\t',\n",
    "                  header=None,\n",
    "                  names=['article_id', 'category', 'subcategory', 'title', 'abstract', 'url', 'title_entities', 'abstract_entities', 'sentiment'])\n",
    "\n",
    "# Create article-category relationships and remove duplicates\n",
    "article_category_df = news[['article_id', 'category', 'subcategory']].drop_duplicates()\n",
    "\n",
    "# Load sentiment data (team produced metadata)\n",
    "news_tone = pd.read_csv(train_news_with_sentiment_file,\n",
    "                  header=None,\n",
    "                  names=['article_id', 'category', 'subcategory', 'title', 'abstract', 'url', 'title_entities', 'abstract_entities', 'sentiment'])\n",
    "\n",
    "# Create article-category relationships and remove duplicates\n",
    "article_tone_df = news[['article_id', 'sentiment']].drop_duplicates()"
   ]
  },
  {
   "cell_type": "markdown",
   "metadata": {
    "id": "usq4YIoT8C4g"
   },
   "source": [
    "# 2. Create Triples"
   ]
  },
  {
   "cell_type": "code",
   "execution_count": 6,
   "metadata": {},
   "outputs": [],
   "source": [
    "# Filter users who have at least 5 clicks\n",
    "active_users = user_article_df['user_id'].value_counts()\n",
    "active_users = active_users[active_users >= 5].index.tolist()\n",
    "\n",
    "user_article_active = user_article_df[user_article_df['user_id'].isin(active_users)]\n",
    "\n",
    "# Sample 50,000 interactions\n",
    "sampled_user_article = user_article_active.sample(n=50000, random_state=42)\n",
    "\n",
    "# User-article triples (user clicks article)\n",
    "user_article_triples = [(user, 'CLICKS', article) for user, article in sampled_user_article[['user_id', 'article_id']].values]\n",
    "\n",
    "# Article-category triples (article belongs to category)\n",
    "article_category_triples = [(row['article_id'], 'BELONGS_TO', row['category'])\n",
    "                           for _, row in article_category_df.iterrows()]\n",
    "\n",
    "# Article-subcategory triples\n",
    "article_subcategory_triples = [(row['article_id'], 'BELONGS_TO_SUBCATEGORY', row['subcategory'])\n",
    "                               for _, row in article_category_df.iterrows()]\n",
    "\n",
    "# Article-subcategory triples\n",
    "article_tone_triples = [(row['article_id'], 'HAS_TONE', row['sentiment'])\n",
    "                               for _, row in article_tone_df.iterrows()]\n",
    "\n",
    "# Create extra meta data triples\n",
    "entity_triples = []\n",
    "for _, row in news.iterrows():\n",
    "    # Parse title entities\n",
    "    if pd.notna(row['title_entities']):\n",
    "        entities = json.loads(row['title_entities'])\n",
    "        for entity in entities:\n",
    "            entity_triples.append((row['article_id'], 'HAS_ENTITY', entity['WikidataId']))\n",
    "            entity_triples.append((row['article_id'], 'IS_WIKI_TYPE', entity['Type']))\n",
    "\n",
    "# Combine all triples\n",
    "triples = user_article_triples + article_category_triples + article_subcategory_triples + entity_triples\n",
    "triples_tone = user_article_triples + article_category_triples + article_subcategory_triples + entity_triples + article_tone_triples"
   ]
  },
  {
   "cell_type": "markdown",
   "metadata": {},
   "source": [
    "# 3. Train TransE Models\n",
    "### 3.1 MIND Provided Features and MetaData"
   ]
  },
  {
   "cell_type": "code",
   "execution_count": 7,
   "metadata": {
    "colab": {
     "base_uri": "https://localhost:8080/",
     "height": 356
    },
    "id": "Aa7bdLqk2x1N",
    "outputId": "d8b84051-5d33-4c93-944c-4d1e95db464e"
   },
   "outputs": [],
   "source": [
    "tf = TriplesFactory.from_labeled_triples(\n",
    "    np.array(triples),\n",
    "    create_inverse_triples=True, \n",
    "    # Create inverse relations\n",
    "    )\n",
    "\n",
    "training, testing = tf.split([.8,.2], random_state=256)\n",
    "evaluator = RankBasedEvaluator()"
   ]
  },
  {
   "cell_type": "code",
   "execution_count": null,
   "metadata": {
    "colab": {
     "base_uri": "https://localhost:8080/",
     "height": 170,
     "referenced_widgets": [
      "8ea733bdc96a4a17b0712638b91dac9c",
      "590fa45091fb484c908aea5cbbeec9bf",
      "b821b5dfa2ae4f1ea110636e255625db",
      "9a568dd84c1049538aae322d6ddfe63b",
      "71906522b53145c8b9d14a0eee0d37ef",
      "efe62a4c09de41c3b0ffd2ef2a3af45f",
      "a8d7962c6cf54f608339adeb813d2014",
      "7dc8dd559f6d440db5b1e7149d6928b9",
      "08d8b11cf89e43098b6a65f690f1ed99",
      "86572313f55a4623b37619fd7a1bd0c0",
      "c1d6fd50070e43a7928d93594470af20",
      "ff1dce872b0444c1863f031aeb55c16b",
      "2efd3357ddbf46858eae91f8b1fce4ae",
      "9dffe810bf234eefac0613e6cd4f7aba",
      "a749e32234f54d75ba27814a0e3154e7",
      "1732e19e091744a7826eff803ae058fc",
      "ee26767d34794b71b46cc1d747942958",
      "94eb5534ad6949108c1833f950dd9ea7",
      "d4902234ead2442eb06b5d8cd66c723f",
      "1d55e65cbaf040788f17c744bd7d9cf2",
      "74b96ec4e79a409b9daa2d442ab4ceb8",
      "e8e9b719ccde4200a3c526a200cc8517",
      "5df02e7133534c94b9d62bab46fb6ea8",
      "9132d93edbd6405a930c8513da3d4d69",
      "be888457deb94d7cb3bc6de797d33665",
      "e3f10cb082cf4c0cbf4f4c579ff5cbdb",
      "8c4659a7f2f74a79a9b51086ed72f8c3",
      "9855d8ff157f4811a3f160b8462de871",
      "3b5cad718ea7467c80fa594545a1608d",
      "ddc22a0d6308473a9ea3b2da4b0e9ddf",
      "5edcb74624b142318201b4f7112ad0bd",
      "7e59c0c0dc404ae1a3291765be5384fb",
      "192d5cf1fb9143d080a83fcb3635296b"
     ]
    },
    "id": "xEP6dLou4jYY",
    "outputId": "a460b3b1-1003-4ffd-8497-de4a357ce2f7",
    "scrolled": true
   },
   "outputs": [],
   "source": [
    "# GPU-optimized pipeline\n",
    "result = pipeline(\n",
    "    training=training,\n",
    "    testing=testing,\n",
    "    model='TransE',\n",
    "    model_kwargs=dict(embedding_dim=10),\n",
    "    training_kwargs=dict(\n",
    "        num_epochs=25,\n",
    "        batch_size=512,\n",
    "    ),\n",
    "    optimizer_kwargs=dict(lr=0.01), \n",
    "    random_seed=256,\n",
    "    device='gpu',\n",
    "    negative_sampler='basic',\n",
    "    negative_sampler_kwargs=dict(num_negs_per_pos=2),\n",
    "    evaluator=evaluator,\n",
    "    evaluator_kwargs=dict(filtered=True),\n",
    "    evaluation_kwargs=dict(device=torch.device('cuda')),\n",
    "    use_tqdm=True  # Show progress bars\n",
    ")\n",
    "\n",
    "# Save the model for later use\n",
    "result.save_to_directory(os.path.join(working_dir, 'results',))"
   ]
  },
  {
   "cell_type": "markdown",
   "metadata": {},
   "source": [
    "### 3.1 Addition of Team Generated Sentiment Features"
   ]
  },
  {
   "cell_type": "code",
   "execution_count": 9,
   "metadata": {},
   "outputs": [
    {
     "name": "stderr",
     "output_type": "stream",
     "text": [
      "INFO:pykeen.triples.splitting:done splitting triples to groups of sizes [163026, 63248]\n"
     ]
    }
   ],
   "source": [
    "tf_sentiment = TriplesFactory.from_labeled_triples(\n",
    "    np.array(triples_tone),\n",
    "    create_inverse_triples=True  # Create inverse relations\n",
    ")\n",
    "\n",
    "training_sentiment, testing_sentiment = tf_sentiment.split(random_state=256)"
   ]
  },
  {
   "cell_type": "code",
   "execution_count": null,
   "metadata": {},
   "outputs": [],
   "source": [
    "# GPU-optimized pipeline\n",
    "result_tone = pipeline(\n",
    "    training=training_sentiment,\n",
    "    testing=testing_sentiment,\n",
    "    model='TransE',\n",
    "    model_kwargs=dict(embedding_dim=10),\n",
    "    training_kwargs=dict(\n",
    "        num_epochs=25,\n",
    "        batch_size=512,  # Larger batches better for GPU\n",
    "    ),\n",
    "    optimizer_kwargs=dict(lr=0.01),  # Learning rate\n",
    "    random_seed=256,\n",
    "    device='gpu',  # This is the key change for GPU\n",
    "    negative_sampler='basic',\n",
    "    negative_sampler_kwargs=dict(num_negs_per_pos=10),\n",
    "    evaluator_kwargs=dict(filtered=True),\n",
    "    use_tqdm=True  # Show progress bars\n",
    ")\n",
    "\n",
    "# Save the model for later use\n",
    "result.save_to_directory(os.path.join(working_dir, 'result_tone',))"
   ]
  },
  {
   "cell_type": "markdown",
   "metadata": {},
   "source": [
    "# Evaluation\n",
    "## MRR\n",
    "### No Sentiment Features"
   ]
  },
  {
   "cell_type": "code",
   "execution_count": 13,
   "metadata": {
    "colab": {
     "base_uri": "https://localhost:8080/"
    },
    "id": "Vfrit2lEMIxX",
    "outputId": "039002b4-ca64-4643-e9ee-2abdea57296f"
   },
   "outputs": [
    {
     "name": "stdout",
     "output_type": "stream",
     "text": [
      "Mean Rank: 7728.9228515625\n",
      "Mean Reciprocal Rank (MRR): 0.022526569664478302\n",
      "Hits@1: 0.008614507850241546\n",
      "Hits@3: 0.020606884057971016\n",
      "Hits@10: 0.047271286231884056\n"
     ]
    }
   ],
   "source": [
    "model = result.model\n",
    "# Access specific metrics\n",
    "print(\"Mean Rank:\", result.metric_results.get_metric('mean_rank'))\n",
    "print(\"Mean Reciprocal Rank (MRR):\", result.metric_results.get_metric('mean_reciprocal_rank'))\n",
    "print(\"Hits@1:\", result.metric_results.get_metric('hits_at_1')) \n",
    "print(\"Hits@3:\", result.metric_results.get_metric('hits_at_3'))\n",
    "print(\"Hits@10:\", result.metric_results.get_metric('hits_at_10'))"
   ]
  },
  {
   "cell_type": "markdown",
   "metadata": {},
   "source": [
    "loss: 0.0001 41003.828125, loss .001 Mean Rank: 41090.44921875, 17120 ComplEx-> TransE, 16409.64453125, 16730 added negative samplerkwargs, embeddings 100->50, 16660, 14567 loss 0.001 -> 01, 16859 batch size 256 -> 128, 14105 batch size 128 - 256 epochs 5->25, 11578 added subcategory, 20820 batch 256 -> 512 loss 0.01 -> 0.001,  16377 -> 9334"
   ]
  },
  {
   "cell_type": "code",
   "execution_count": 14,
   "metadata": {},
   "outputs": [
    {
     "name": "stdout",
     "output_type": "stream",
     "text": [
      "Mean Rank: 5257.298828125\n",
      "Mean Reciprocal Rank (MRR): 0.09234735369682312\n",
      "Hits@1: 0.054381166202883885\n",
      "Hits@3: 0.10758442954717935\n",
      "Hits@10: 0.16615545155578043\n"
     ]
    }
   ],
   "source": [
    "# Access specific metrics\n",
    "print(\"Mean Rank:\", result_tone.metric_results.get_metric('mean_rank'))\n",
    "print(\"Mean Reciprocal Rank (MRR):\", result_tone.metric_results.get_metric('mean_reciprocal_rank'))\n",
    "print(\"Hits@1:\", result_tone.metric_results.get_metric('hits_at_1')) \n",
    "print(\"Hits@3:\", result_tone.metric_results.get_metric('hits_at_3'))\n",
    "print(\"Hits@10:\", result_tone.metric_results.get_metric('hits_at_10'))"
   ]
  },
  {
   "cell_type": "markdown",
   "metadata": {},
   "source": [
    "## AUC\n",
    "The Pykeen built in evaluation function crashes when evaluating this model. Klaude was used to generate the following code evluating the model using Sklearn Evaluator"
   ]
  },
  {
   "cell_type": "code",
   "execution_count": null,
   "metadata": {},
   "outputs": [],
   "source": [
    "#AUC_evaluator = ClassificationEvaluator()\n",
    "#test_triples_tensor = tf.map_triples(testing.triples[1000:]) #reducing test size for memory\n",
    "# Evaluate\n",
    "#auc_results = AUC_evaluator.evaluate(model, test_triples_tensor, batch_size=128, use_tqdm=True)"
   ]
  },
  {
   "cell_type": "code",
   "execution_count": 25,
   "metadata": {},
   "outputs": [],
   "source": [
    "# Klaude Generated\n",
    "# Function to compute scores for triples\n",
    "def compute_scores(model, triples, device='cpu'):\n",
    "    \"\"\"\n",
    "    Compute scores for triples using the PyKEEN model.\n",
    "    \n",
    "    Args:\n",
    "        model: A trained PyKEEN model\n",
    "        triples: numpy array or tensor of shape (n, 3) with [head, relation, tail] format\n",
    "        device: Device to use for computation\n",
    "        \n",
    "    Returns:\n",
    "        numpy array of scores\n",
    "    \"\"\"\n",
    "    # Convert to tensor if not already\n",
    "    if not isinstance(triples, torch.Tensor):\n",
    "        triples = torch.tensor(triples, dtype=torch.long, device=device)\n",
    "    else:\n",
    "        triples = triples.to(device)\n",
    "    \n",
    "    # Get batch size that fits in memory\n",
    "    batch_size = 1024\n",
    "    num_triples = triples.shape[0]\n",
    "    \n",
    "    scores = []\n",
    "    \n",
    "    # Process in batches to avoid memory issues\n",
    "    with torch.no_grad():\n",
    "        for start_idx in tqdm(range(0, num_triples, batch_size), desc=\"Computing scores\"):\n",
    "            end_idx = min(start_idx + batch_size, num_triples)\n",
    "            batch = triples[start_idx:end_idx]\n",
    "            \n",
    "            # PyKEEN score computation\n",
    "            batch_scores = model.score_hrt(batch).cpu().numpy()\n",
    "            scores.append(batch_scores)\n",
    "    \n",
    "    return np.concatenate(scores)"
   ]
  },
  {
   "cell_type": "code",
   "execution_count": 26,
   "metadata": {},
   "outputs": [],
   "source": [
    "# Klaude Generated\n",
    "# Function to generate negative samples\n",
    "def generate_negative_samples(positive_triples, num_entities, num_samples_per_positive=1, \n",
    "                              corruption_scheme='tail', filter_positives=None):\n",
    "    \"\"\"\n",
    "    Generate negative samples by corrupting either head or tail entities.\n",
    "    \n",
    "    Args:\n",
    "        positive_triples: numpy array of shape (n, 3) with positive triples [head, relation, tail]\n",
    "        num_entities: Total number of entities in the knowledge graph\n",
    "        num_samples_per_positive: Number of negative samples to generate per positive triple\n",
    "        corruption_scheme: Either 'head', 'tail', or 'both'\n",
    "        filter_positives: Set of positive triples to filter out from generated negatives\n",
    "        \n",
    "    Returns:\n",
    "        numpy array of negative triples\n",
    "    \"\"\"\n",
    "    np.random.seed(42)\n",
    "    num_triples = len(positive_triples)\n",
    "    negative_triples = []\n",
    "    \n",
    "    for idx in tqdm(range(num_triples), desc=\"Generating negative samples\"):\n",
    "        h, r, t = positive_triples[idx]\n",
    "        \n",
    "        for _ in range(num_samples_per_positive):\n",
    "            if corruption_scheme == 'head' or (corruption_scheme == 'both' and np.random.random() > 0.5):\n",
    "                # Corrupt head\n",
    "                neg_h = np.random.randint(0, num_entities)\n",
    "                while neg_h == h or (filter_positives is not None and (neg_h, r, t) in filter_positives):\n",
    "                    neg_h = np.random.randint(0, num_entities)\n",
    "                negative_triples.append([neg_h, r, t])\n",
    "            else:\n",
    "                # Corrupt tail\n",
    "                neg_t = np.random.randint(0, num_entities)\n",
    "                while neg_t == t or (filter_positives is not None and (h, r, neg_t) in filter_positives):\n",
    "                    neg_t = np.random.randint(0, num_entities)\n",
    "                negative_triples.append([h, r, neg_t])\n",
    "    \n",
    "    return np.array(negative_triples)"
   ]
  },
  {
   "cell_type": "code",
   "execution_count": 27,
   "metadata": {},
   "outputs": [],
   "source": [
    "# Klaude Generated\n",
    "# Main function to evaluate the model\n",
    "def evaluate_roc_auc(model, test_triples, num_entities, device='cpu', num_negatives_per_positive=10,\n",
    "                    corruption_scheme='tail', filter_positives=None, plot=True):\n",
    "    \"\"\"\n",
    "    Evaluate the model using ROC AUC.\n",
    "    \n",
    "    Args:\n",
    "        model: Trained PyKEEN model\n",
    "        test_triples: Test set triples\n",
    "        num_entities: Total number of entities\n",
    "        device: Device to use for computation\n",
    "        num_negatives_per_positive: Number of negative samples per positive sample\n",
    "        corruption_scheme: Scheme for generating negative samples\n",
    "        filter_positives: Set of positive triples to filter out from negatives\n",
    "        plot: Whether to plot the ROC curve\n",
    "        \n",
    "    Returns:\n",
    "        AUC score, FPR, TPR, thresholds\n",
    "    \"\"\"\n",
    "    print(\"Generating negative samples...\")\n",
    "    negative_triples = generate_negative_samples(\n",
    "        test_triples, \n",
    "        num_entities, \n",
    "        num_samples_per_positive=num_negatives_per_positive,\n",
    "        corruption_scheme=corruption_scheme,\n",
    "        filter_positives=filter_positives\n",
    "    )\n",
    "    \n",
    "    print(f\"Scoring {len(test_triples)} positive triples...\")\n",
    "    positive_scores = compute_scores(model, test_triples, device)\n",
    "    \n",
    "    print(f\"Scoring {len(negative_triples)} negative triples...\")\n",
    "    negative_scores = compute_scores(model, negative_triples, device)\n",
    "    \n",
    "    # Combine scores and create labels (1 for positive, 0 for negative)\n",
    "    all_scores = np.concatenate([positive_scores, negative_scores])\n",
    "    all_labels = np.concatenate([np.ones(len(positive_scores)), np.zeros(len(negative_scores))])\n",
    "    \n",
    "    # Compute ROC curve and AUC\n",
    "    fpr, tpr, thresholds = roc_curve(all_labels, all_scores)\n",
    "    roc_auc = auc(fpr, tpr)\n",
    "    \n",
    "    print(f\"ROC AUC: {roc_auc:.4f}\")\n",
    "    \n",
    "    if plot:\n",
    "        plt.figure(figsize=(10, 8))\n",
    "        plt.plot(fpr, tpr, color='darkorange', lw=2, label=f'ROC curve (area = {roc_auc:.3f})')\n",
    "        plt.plot([0, 1], [0, 1], color='navy', lw=2, linestyle='--')\n",
    "        plt.xlim([0.0, 1.0])\n",
    "        plt.ylim([0.0, 1.05])\n",
    "        plt.xlabel('False Positive Rate')\n",
    "        plt.ylabel('True Positive Rate')\n",
    "        plt.title('Receiver Operating Characteristic (ROC)')\n",
    "        plt.legend(loc=\"lower right\")\n",
    "        plt.grid(alpha=0.3)\n",
    "        plt.show()\n",
    "    \n",
    "    return roc_auc, fpr, tpr, thresholds"
   ]
  },
  {
   "cell_type": "code",
   "execution_count": 28,
   "metadata": {},
   "outputs": [],
   "source": [
    "# Klaude Generated\n",
    "# Evaluation using a TriplesFactory\n",
    "def evaluate_with_triples_factory(model, test_triples_factory, device='cpu', \n",
    "                                 corruption_scheme='tail', filter_triples=None):\n",
    "    \"\"\"\n",
    "    Evaluate model on test data from a PyKEEN TriplesFactory\n",
    "    \n",
    "    Args:\n",
    "        model: Trained PyKEEN model\n",
    "        test_triples_factory: PyKEEN TriplesFactory containing test triples\n",
    "        device: Computation device\n",
    "        corruption_scheme: How to corrupt triples ('head', 'tail', or 'both')\n",
    "        filter_triples: Optional additional triples to filter during negative sampling\n",
    "        \n",
    "    Returns:\n",
    "        ROC AUC score and curve data\n",
    "    \"\"\"\n",
    "    # Get test triples from TriplesFactory\n",
    "    test_triples = test_triples_factory.mapped_triples.numpy()\n",
    "    \n",
    "    # Get entity and relation maps for reference\n",
    "    entity_to_id = test_triples_factory.entity_to_id\n",
    "    relation_to_id = test_triples_factory.relation_to_id\n",
    "    \n",
    "    # Number of entities\n",
    "    num_entities = test_triples_factory.num_entities\n",
    "    \n",
    "    # Create set of all positive triples for filtering\n",
    "    all_positives = set()\n",
    "    for h, r, t in test_triples:\n",
    "        all_positives.add((h, r, t))\n",
    "    \n",
    "    # Add any additional triples to filter (like training triples)\n",
    "    if filter_triples is not None:\n",
    "        for h, r, t in filter_triples:\n",
    "            all_positives.add((h, r, t))\n",
    "    \n",
    "    print(f\"Evaluating on {len(test_triples)} triples from TriplesFactory\")\n",
    "    print(f\"Using {corruption_scheme} corruption scheme\")\n",
    "    \n",
    "    # Run evaluation\n",
    "    return evaluate_roc_auc(\n",
    "        model=model,\n",
    "        test_triples=test_triples,\n",
    "        num_entities=num_entities,\n",
    "        device=device,\n",
    "        corruption_scheme=corruption_scheme,\n",
    "        filter_positives=all_positives,\n",
    "        plot=True\n",
    "    )"
   ]
  },
  {
   "cell_type": "code",
   "execution_count": 29,
   "metadata": {},
   "outputs": [],
   "source": [
    "# Klaude Generated\n",
    "# Example usage for MIND dataset with user_ids to article_ids prediction\n",
    "def evaluate_mind_dataset(model, test_data, entity_mapper, relation_id, device='cpu'):\n",
    "    \"\"\"\n",
    "    Evaluate model on MIND dataset for user -> article recommendations\n",
    "    \n",
    "    Args:\n",
    "        model: Trained PyKEEN model\n",
    "        test_data: DataFrame or list of (user_id, article_id) pairs for testing\n",
    "        entity_mapper: Dictionary mapping user/article IDs to entity IDs used in the model\n",
    "        relation_id: The relation ID used for user-clicks-article relationship\n",
    "        device: Computation device\n",
    "        \n",
    "    Returns:\n",
    "        ROC AUC score and curve data\n",
    "    \"\"\"\n",
    "    # Convert test data to triples format\n",
    "    test_triples = []\n",
    "    \n",
    "    if isinstance(test_data, pd.DataFrame):\n",
    "        for _, row in test_data.iterrows():\n",
    "            user_entity_id = entity_mapper.get(f\"user_{row['user_id']}\")\n",
    "            article_entity_id = entity_mapper.get(f\"article_{row['article_id']}\")\n",
    "            \n",
    "            if user_entity_id is not None and article_entity_id is not None:\n",
    "                test_triples.append([user_entity_id, relation_id, article_entity_id])\n",
    "    else:\n",
    "        # Assuming test_data is a list of (user_id, article_id) tuples\n",
    "        for user_id, article_id in test_data:\n",
    "            user_entity_id = entity_mapper.get(f\"user_{user_id}\")\n",
    "            article_entity_id = entity_mapper.get(f\"article_{article_id}\")\n",
    "            \n",
    "            if user_entity_id is not None and article_entity_id is not None:\n",
    "                test_triples.append([user_entity_id, relation_id, article_entity_id])\n",
    "    \n",
    "    test_triples = np.array(test_triples)\n",
    "    \n",
    "    # Get total entity count from model\n",
    "    num_entities = model.num_entities\n",
    "    \n",
    "    # Create set of all positive triples for filtering during negative sampling\n",
    "    all_positives = set()\n",
    "    for h, r, t in test_triples:\n",
    "        all_positives.add((h, r, t))\n",
    "    \n",
    "    print(f\"Evaluating on {len(test_triples)} user-article interactions\")\n",
    "    \n",
    "    # Run evaluation (using 'tail' corruption because we're predicting articles)\n",
    "    return evaluate_roc_auc(\n",
    "        model=model,\n",
    "        test_triples=test_triples,\n",
    "        num_entities=num_entities,\n",
    "        device=device,\n",
    "        corruption_scheme='tail',  # We want to corrupt article entities\n",
    "        filter_positives=all_positives,\n",
    "        plot=True\n",
    "    )"
   ]
  },
  {
   "cell_type": "code",
   "execution_count": 30,
   "metadata": {},
   "outputs": [
    {
     "name": "stdout",
     "output_type": "stream",
     "text": [
      "Evaluating using TriplesFactory...\n",
      "Evaluating on 52992 triples from TriplesFactory\n",
      "Using tail corruption scheme\n",
      "Generating negative samples...\n"
     ]
    },
    {
     "data": {
      "application/vnd.jupyter.widget-view+json": {
       "model_id": "df52b9a4a5b84b43b12d2096fb27a1ba",
       "version_major": 2,
       "version_minor": 0
      },
      "text/plain": [
       "Generating negative samples:   0%|          | 0/52992 [00:00<?, ?it/s]"
      ]
     },
     "metadata": {},
     "output_type": "display_data"
    },
    {
     "name": "stdout",
     "output_type": "stream",
     "text": [
      "Scoring 52992 positive triples...\n"
     ]
    },
    {
     "data": {
      "application/vnd.jupyter.widget-view+json": {
       "model_id": "3c3645f70ebc49cc927887f7ede9fc73",
       "version_major": 2,
       "version_minor": 0
      },
      "text/plain": [
       "Computing scores:   0%|          | 0/52 [00:00<?, ?it/s]"
      ]
     },
     "metadata": {},
     "output_type": "display_data"
    },
    {
     "name": "stdout",
     "output_type": "stream",
     "text": [
      "Scoring 529920 negative triples...\n"
     ]
    },
    {
     "data": {
      "application/vnd.jupyter.widget-view+json": {
       "model_id": "7ad78532843044eba6dd76000bc72647",
       "version_major": 2,
       "version_minor": 0
      },
      "text/plain": [
       "Computing scores:   0%|          | 0/518 [00:00<?, ?it/s]"
      ]
     },
     "metadata": {},
     "output_type": "display_data"
    },
    {
     "name": "stdout",
     "output_type": "stream",
     "text": [
      "ROC AUC: 0.3858\n"
     ]
    },
    {
     "data": {
      "image/png": "[encoded data removed]",
      "text/plain": [
       "<Figure size 1000x800 with 1 Axes>"
      ]
     },
     "metadata": {},
     "output_type": "display_data"
    },
    {
     "name": "stdout",
     "output_type": "stream",
     "text": [
      "Final ROC AUC with TriplesFactory: 0.3858\n"
     ]
    }
   ],
   "source": [
    "# Klaude Generated\n",
    "# This is an example - replace with your actual code\n",
    "\n",
    "# Option 1: Using a TriplesFactory directly\n",
    "# ----------------------------------------\n",
    "\n",
    "# Load your trained model\n",
    "from pykeen.models import TransE\n",
    "model = result.model\n",
    "\n",
    "# Load your test triples factory\n",
    "test_triples_factory = testing  # Replace with your actual test TriplesFactory\n",
    "\n",
    "# Get the training triples factory (optional, for filtering)\n",
    "train_triples_factory = training  # Replace with your actual train TriplesFactory\n",
    "train_triples = train_triples_factory.mapped_triples.numpy()  # For filtering\n",
    "\n",
    "# Run evaluation using the TriplesFactory directly\n",
    "print(\"Evaluating using TriplesFactory...\")\n",
    "roc_auc, fpr, tpr, thresholds = evaluate_with_triples_factory(\n",
    "    model=model,\n",
    "    test_triples_factory=test_triples_factory,\n",
    "    device='cuda' if torch.cuda.is_available() else 'cpu',\n",
    "    corruption_scheme='tail',  # Assuming we're predicting articles (tail entities)\n",
    "    filter_triples=train_triples  # Optional: filter out training triples from negative samples\n",
    ")\n",
    "\n",
    "print(f\"Final ROC AUC with TriplesFactory: {roc_auc:.4f}\")"
   ]
  },
  {
   "cell_type": "markdown",
   "metadata": {},
   "source": [
    "### Evaluation with Sentiment Features"
   ]
  },
  {
   "cell_type": "code",
   "execution_count": 31,
   "metadata": {},
   "outputs": [
    {
     "name": "stdout",
     "output_type": "stream",
     "text": [
      "Evaluating using TriplesFactory...\n",
      "Evaluating on 63248 triples from TriplesFactory\n",
      "Using tail corruption scheme\n",
      "Generating negative samples...\n"
     ]
    },
    {
     "data": {
      "application/vnd.jupyter.widget-view+json": {
       "model_id": "f064b045e98241da808ea4b55c54c5e7",
       "version_major": 2,
       "version_minor": 0
      },
      "text/plain": [
       "Generating negative samples:   0%|          | 0/63248 [00:00<?, ?it/s]"
      ]
     },
     "metadata": {},
     "output_type": "display_data"
    },
    {
     "name": "stdout",
     "output_type": "stream",
     "text": [
      "Scoring 63248 positive triples...\n"
     ]
    },
    {
     "data": {
      "application/vnd.jupyter.widget-view+json": {
       "model_id": "22854ed535c94bfeb0e25be67fecd968",
       "version_major": 2,
       "version_minor": 0
      },
      "text/plain": [
       "Computing scores:   0%|          | 0/62 [00:00<?, ?it/s]"
      ]
     },
     "metadata": {},
     "output_type": "display_data"
    },
    {
     "name": "stdout",
     "output_type": "stream",
     "text": [
      "Scoring 632480 negative triples...\n"
     ]
    },
    {
     "data": {
      "application/vnd.jupyter.widget-view+json": {
       "model_id": "45563dc232654679bf1ce635ffbb862e",
       "version_major": 2,
       "version_minor": 0
      },
      "text/plain": [
       "Computing scores:   0%|          | 0/618 [00:00<?, ?it/s]"
      ]
     },
     "metadata": {},
     "output_type": "display_data"
    },
    {
     "name": "stdout",
     "output_type": "stream",
     "text": [
      "ROC AUC: 0.4027\n"
     ]
    },
    {
     "data": {
      "image/png": "[encoded data removed]",
      "text/plain": [
       "<Figure size 1000x800 with 1 Axes>"
      ]
     },
     "metadata": {},
     "output_type": "display_data"
    },
    {
     "name": "stdout",
     "output_type": "stream",
     "text": [
      "Final ROC AUC with TriplesFactory: 0.4027\n"
     ]
    }
   ],
   "source": [
    "# This is an example - replace with your actual code\n",
    "\n",
    "# Option 1: Using a TriplesFactory directly\n",
    "# ----------------------------------------\n",
    "\n",
    "# Load your trained model\n",
    "from pykeen.models import TransE\n",
    "model = result_tone.model\n",
    "\n",
    "# Load your test triples factory\n",
    "test_triples_factory = testing_sentiment  # Replace with your actual test TriplesFactory\n",
    "\n",
    "# Get the training triples factory (optional, for filtering)\n",
    "train_triples_factory = training_sentiment  # Replace with your actual train TriplesFactory\n",
    "train_triples = train_triples_factory.mapped_triples.numpy()  # For filtering\n",
    "\n",
    "# Run evaluation using the TriplesFactory directly\n",
    "print(\"Evaluating using TriplesFactory...\")\n",
    "roc_auc, fpr, tpr, thresholds = evaluate_with_triples_factory(\n",
    "    model=model,\n",
    "    test_triples_factory=test_triples_factory,\n",
    "    device='cuda' if torch.cuda.is_available() else 'cpu',\n",
    "    corruption_scheme='tail',  # Assuming we're predicting articles (tail entities)\n",
    "    filter_triples=train_triples  # Optional: filter out training triples from negative samples\n",
    ")\n",
    "\n",
    "print(f\"Final ROC AUC with TriplesFactory: {roc_auc:.4f}\")"
   ]
  }
 ],
 "metadata": {
  "colab": {
   "provenance": []
  },
  "kernelspec": {
   "display_name": "Python 3 (ipykernel)",
   "language": "python",
   "name": "python3"
  },
  "language_info": {
   "codemirror_mode": {
    "name": "ipython",
    "version": 3
   },
   "file_extension": ".py",
   "mimetype": "text/x-python",
   "name": "python",
   "nbconvert_exporter": "python",
   "pygments_lexer": "ipython3",
   "version": "3.12.4"
  },
  "widgets": {
   "application/vnd.jupyter.widget-state+json": {
    "08d8b11cf89e43098b6a65f690f1ed99": {
     "model_module": "@jupyter-widgets/controls",
     "model_module_version": "1.5.0",
     "model_name": "ProgressStyleModel",
     "state": {
      "_model_module": "@jupyter-widgets/controls",
      "_model_module_version": "1.5.0",
      "_model_name": "ProgressStyleModel",
      "_view_count": null,
      "_view_module": "@jupyter-widgets/base",
      "_view_module_version": "1.2.0",
      "_view_name": "StyleView",
      "bar_color": null,
      "description_width": ""
     }
    },
    "1732e19e091744a7826eff803ae058fc": {
     "model_module": "@jupyter-widgets/base",
     "model_module_version": "1.2.0",
     "model_name": "LayoutModel",
     "state": {
      "_model_module": "@jupyter-widgets/base",
      "_model_module_version": "1.2.0",
      "_model_name": "LayoutModel",
      "_view_count": null,
      "_view_module": "@jupyter-widgets/base",
      "_view_module_version": "1.2.0",
      "_view_name": "LayoutView",
      "align_content": null,
      "align_items": null,
      "align_self": null,
      "border": null,
      "bottom": null,
      "display": null,
      "flex": null,
      "flex_flow": null,
      "grid_area": null,
      "grid_auto_columns": null,
      "grid_auto_flow": null,
      "grid_auto_rows": null,
      "grid_column": null,
      "grid_gap": null,
      "grid_row": null,
      "grid_template_areas": null,
      "grid_template_columns": null,
      "grid_template_rows": null,
      "height": null,
      "justify_content": null,
      "justify_items": null,
      "left": null,
      "margin": null,
      "max_height": null,
      "max_width": null,
      "min_height": null,
      "min_width": null,
      "object_fit": null,
      "object_position": null,
      "order": null,
      "overflow": null,
      "overflow_x": null,
      "overflow_y": null,
      "padding": null,
      "right": null,
      "top": null,
      "visibility": "hidden",
      "width": null
     }
    },
    "192d5cf1fb9143d080a83fcb3635296b": {
     "model_module": "@jupyter-widgets/controls",
     "model_module_version": "1.5.0",
     "model_name": "DescriptionStyleModel",
     "state": {
      "_model_module": "@jupyter-widgets/controls",
      "_model_module_version": "1.5.0",
      "_model_name": "DescriptionStyleModel",
      "_view_count": null,
      "_view_module": "@jupyter-widgets/base",
      "_view_module_version": "1.2.0",
      "_view_name": "StyleView",
      "description_width": ""
     }
    },
    "1d55e65cbaf040788f17c744bd7d9cf2": {
     "model_module": "@jupyter-widgets/controls",
     "model_module_version": "1.5.0",
     "model_name": "ProgressStyleModel",
     "state": {
      "_model_module": "@jupyter-widgets/controls",
      "_model_module_version": "1.5.0",
      "_model_name": "ProgressStyleModel",
      "_view_count": null,
      "_view_module": "@jupyter-widgets/base",
      "_view_module_version": "1.2.0",
      "_view_name": "StyleView",
      "bar_color": null,
      "description_width": ""
     }
    },
    "2efd3357ddbf46858eae91f8b1fce4ae": {
     "model_module": "@jupyter-widgets/controls",
     "model_module_version": "1.5.0",
     "model_name": "HTMLModel",
     "state": {
      "_dom_classes": [],
      "_model_module": "@jupyter-widgets/controls",
      "_model_module_version": "1.5.0",
      "_model_name": "HTMLModel",
      "_view_count": null,
      "_view_module": "@jupyter-widgets/controls",
      "_view_module_version": "1.5.0",
      "_view_name": "HTMLView",
      "description": "",
      "description_tooltip": null,
      "layout": "IPY_MODEL_ee26767d34794b71b46cc1d747942958",
      "placeholder": "​",
      "style": "IPY_MODEL_94eb5534ad6949108c1833f950dd9ea7",
      "value": "Training batches on cuda:0: 100%"
     }
    },
    "3b5cad718ea7467c80fa594545a1608d": {
     "model_module": "@jupyter-widgets/controls",
     "model_module_version": "1.5.0",
     "model_name": "DescriptionStyleModel",
     "state": {
      "_model_module": "@jupyter-widgets/controls",
      "_model_module_version": "1.5.0",
      "_model_name": "DescriptionStyleModel",
      "_view_count": null,
      "_view_module": "@jupyter-widgets/base",
      "_view_module_version": "1.2.0",
      "_view_name": "StyleView",
      "description_width": ""
     }
    },
    "590fa45091fb484c908aea5cbbeec9bf": {
     "model_module": "@jupyter-widgets/controls",
     "model_module_version": "1.5.0",
     "model_name": "HTMLModel",
     "state": {
      "_dom_classes": [],
      "_model_module": "@jupyter-widgets/controls",
      "_model_module_version": "1.5.0",
      "_model_name": "HTMLModel",
      "_view_count": null,
      "_view_module": "@jupyter-widgets/controls",
      "_view_module_version": "1.5.0",
      "_view_name": "HTMLView",
      "description": "",
      "description_tooltip": null,
      "layout": "IPY_MODEL_efe62a4c09de41c3b0ffd2ef2a3af45f",
      "placeholder": "​",
      "style": "IPY_MODEL_a8d7962c6cf54f608339adeb813d2014",
      "value": "Training epochs on cuda:0: 100%"
     }
    },
    "5df02e7133534c94b9d62bab46fb6ea8": {
     "model_module": "@jupyter-widgets/controls",
     "model_module_version": "1.5.0",
     "model_name": "HBoxModel",
     "state": {
      "_dom_classes": [],
      "_model_module": "@jupyter-widgets/controls",
      "_model_module_version": "1.5.0",
      "_model_name": "HBoxModel",
      "_view_count": null,
      "_view_module": "@jupyter-widgets/controls",
      "_view_module_version": "1.5.0",
      "_view_name": "HBoxView",
      "box_style": "",
      "children": [
       "IPY_MODEL_9132d93edbd6405a930c8513da3d4d69",
       "IPY_MODEL_be888457deb94d7cb3bc6de797d33665",
       "IPY_MODEL_e3f10cb082cf4c0cbf4f4c579ff5cbdb"
      ],
      "layout": "IPY_MODEL_8c4659a7f2f74a79a9b51086ed72f8c3"
     }
    },
    "5edcb74624b142318201b4f7112ad0bd": {
     "model_module": "@jupyter-widgets/controls",
     "model_module_version": "1.5.0",
     "model_name": "ProgressStyleModel",
     "state": {
      "_model_module": "@jupyter-widgets/controls",
      "_model_module_version": "1.5.0",
      "_model_name": "ProgressStyleModel",
      "_view_count": null,
      "_view_module": "@jupyter-widgets/base",
      "_view_module_version": "1.2.0",
      "_view_name": "StyleView",
      "bar_color": null,
      "description_width": ""
     }
    },
    "71906522b53145c8b9d14a0eee0d37ef": {
     "model_module": "@jupyter-widgets/base",
     "model_module_version": "1.2.0",
     "model_name": "LayoutModel",
     "state": {
      "_model_module": "@jupyter-widgets/base",
      "_model_module_version": "1.2.0",
      "_model_name": "LayoutModel",
      "_view_count": null,
      "_view_module": "@jupyter-widgets/base",
      "_view_module_version": "1.2.0",
      "_view_name": "LayoutView",
      "align_content": null,
      "align_items": null,
      "align_self": null,
      "border": null,
      "bottom": null,
      "display": null,
      "flex": null,
      "flex_flow": null,
      "grid_area": null,
      "grid_auto_columns": null,
      "grid_auto_flow": null,
      "grid_auto_rows": null,
      "grid_column": null,
      "grid_gap": null,
      "grid_row": null,
      "grid_template_areas": null,
      "grid_template_columns": null,
      "grid_template_rows": null,
      "height": null,
      "justify_content": null,
      "justify_items": null,
      "left": null,
      "margin": null,
      "max_height": null,
      "max_width": null,
      "min_height": null,
      "min_width": null,
      "object_fit": null,
      "object_position": null,
      "order": null,
      "overflow": null,
      "overflow_x": null,
      "overflow_y": null,
      "padding": null,
      "right": null,
      "top": null,
      "visibility": null,
      "width": null
     }
    },
    "74b96ec4e79a409b9daa2d442ab4ceb8": {
     "model_module": "@jupyter-widgets/base",
     "model_module_version": "1.2.0",
     "model_name": "LayoutModel",
     "state": {
      "_model_module": "@jupyter-widgets/base",
      "_model_module_version": "1.2.0",
      "_model_name": "LayoutModel",
      "_view_count": null,
      "_view_module": "@jupyter-widgets/base",
      "_view_module_version": "1.2.0",
      "_view_name": "LayoutView",
      "align_content": null,
      "align_items": null,
      "align_self": null,
      "border": null,
      "bottom": null,
      "display": null,
      "flex": null,
      "flex_flow": null,
      "grid_area": null,
      "grid_auto_columns": null,
      "grid_auto_flow": null,
      "grid_auto_rows": null,
      "grid_column": null,
      "grid_gap": null,
      "grid_row": null,
      "grid_template_areas": null,
      "grid_template_columns": null,
      "grid_template_rows": null,
      "height": null,
      "justify_content": null,
      "justify_items": null,
      "left": null,
      "margin": null,
      "max_height": null,
      "max_width": null,
      "min_height": null,
      "min_width": null,
      "object_fit": null,
      "object_position": null,
      "order": null,
      "overflow": null,
      "overflow_x": null,
      "overflow_y": null,
      "padding": null,
      "right": null,
      "top": null,
      "visibility": null,
      "width": null
     }
    },
    "7dc8dd559f6d440db5b1e7149d6928b9": {
     "model_module": "@jupyter-widgets/base",
     "model_module_version": "1.2.0",
     "model_name": "LayoutModel",
     "state": {
      "_model_module": "@jupyter-widgets/base",
      "_model_module_version": "1.2.0",
      "_model_name": "LayoutModel",
      "_view_count": null,
      "_view_module": "@jupyter-widgets/base",
      "_view_module_version": "1.2.0",
      "_view_name": "LayoutView",
      "align_content": null,
      "align_items": null,
      "align_self": null,
      "border": null,
      "bottom": null,
      "display": null,
      "flex": null,
      "flex_flow": null,
      "grid_area": null,
      "grid_auto_columns": null,
      "grid_auto_flow": null,
      "grid_auto_rows": null,
      "grid_column": null,
      "grid_gap": null,
      "grid_row": null,
      "grid_template_areas": null,
      "grid_template_columns": null,
      "grid_template_rows": null,
      "height": null,
      "justify_content": null,
      "justify_items": null,
      "left": null,
      "margin": null,
      "max_height": null,
      "max_width": null,
      "min_height": null,
      "min_width": null,
      "object_fit": null,
      "object_position": null,
      "order": null,
      "overflow": null,
      "overflow_x": null,
      "overflow_y": null,
      "padding": null,
      "right": null,
      "top": null,
      "visibility": null,
      "width": null
     }
    },
    "7e59c0c0dc404ae1a3291765be5384fb": {
     "model_module": "@jupyter-widgets/base",
     "model_module_version": "1.2.0",
     "model_name": "LayoutModel",
     "state": {
      "_model_module": "@jupyter-widgets/base",
      "_model_module_version": "1.2.0",
      "_model_name": "LayoutModel",
      "_view_count": null,
      "_view_module": "@jupyter-widgets/base",
      "_view_module_version": "1.2.0",
      "_view_name": "LayoutView",
      "align_content": null,
      "align_items": null,
      "align_self": null,
      "border": null,
      "bottom": null,
      "display": null,
      "flex": null,
      "flex_flow": null,
      "grid_area": null,
      "grid_auto_columns": null,
      "grid_auto_flow": null,
      "grid_auto_rows": null,
      "grid_column": null,
      "grid_gap": null,
      "grid_row": null,
      "grid_template_areas": null,
      "grid_template_columns": null,
      "grid_template_rows": null,
      "height": null,
      "justify_content": null,
      "justify_items": null,
      "left": null,
      "margin": null,
      "max_height": null,
      "max_width": null,
      "min_height": null,
      "min_width": null,
      "object_fit": null,
      "object_position": null,
      "order": null,
      "overflow": null,
      "overflow_x": null,
      "overflow_y": null,
      "padding": null,
      "right": null,
      "top": null,
      "visibility": null,
      "width": null
     }
    },
    "86572313f55a4623b37619fd7a1bd0c0": {
     "model_module": "@jupyter-widgets/base",
     "model_module_version": "1.2.0",
     "model_name": "LayoutModel",
     "state": {
      "_model_module": "@jupyter-widgets/base",
      "_model_module_version": "1.2.0",
      "_model_name": "LayoutModel",
      "_view_count": null,
      "_view_module": "@jupyter-widgets/base",
      "_view_module_version": "1.2.0",
      "_view_name": "LayoutView",
      "align_content": null,
      "align_items": null,
      "align_self": null,
      "border": null,
      "bottom": null,
      "display": null,
      "flex": null,
      "flex_flow": null,
      "grid_area": null,
      "grid_auto_columns": null,
      "grid_auto_flow": null,
      "grid_auto_rows": null,
      "grid_column": null,
      "grid_gap": null,
      "grid_row": null,
      "grid_template_areas": null,
      "grid_template_columns": null,
      "grid_template_rows": null,
      "height": null,
      "justify_content": null,
      "justify_items": null,
      "left": null,
      "margin": null,
      "max_height": null,
      "max_width": null,
      "min_height": null,
      "min_width": null,
      "object_fit": null,
      "object_position": null,
      "order": null,
      "overflow": null,
      "overflow_x": null,
      "overflow_y": null,
      "padding": null,
      "right": null,
      "top": null,
      "visibility": null,
      "width": null
     }
    },
    "8c4659a7f2f74a79a9b51086ed72f8c3": {
     "model_module": "@jupyter-widgets/base",
     "model_module_version": "1.2.0",
     "model_name": "LayoutModel",
     "state": {
      "_model_module": "@jupyter-widgets/base",
      "_model_module_version": "1.2.0",
      "_model_name": "LayoutModel",
      "_view_count": null,
      "_view_module": "@jupyter-widgets/base",
      "_view_module_version": "1.2.0",
      "_view_name": "LayoutView",
      "align_content": null,
      "align_items": null,
      "align_self": null,
      "border": null,
      "bottom": null,
      "display": null,
      "flex": null,
      "flex_flow": null,
      "grid_area": null,
      "grid_auto_columns": null,
      "grid_auto_flow": null,
      "grid_auto_rows": null,
      "grid_column": null,
      "grid_gap": null,
      "grid_row": null,
      "grid_template_areas": null,
      "grid_template_columns": null,
      "grid_template_rows": null,
      "height": null,
      "justify_content": null,
      "justify_items": null,
      "left": null,
      "margin": null,
      "max_height": null,
      "max_width": null,
      "min_height": null,
      "min_width": null,
      "object_fit": null,
      "object_position": null,
      "order": null,
      "overflow": null,
      "overflow_x": null,
      "overflow_y": null,
      "padding": null,
      "right": null,
      "top": null,
      "visibility": null,
      "width": null
     }
    },
    "8ea733bdc96a4a17b0712638b91dac9c": {
     "model_module": "@jupyter-widgets/controls",
     "model_module_version": "1.5.0",
     "model_name": "HBoxModel",
     "state": {
      "_dom_classes": [],
      "_model_module": "@jupyter-widgets/controls",
      "_model_module_version": "1.5.0",
      "_model_name": "HBoxModel",
      "_view_count": null,
      "_view_module": "@jupyter-widgets/controls",
      "_view_module_version": "1.5.0",
      "_view_name": "HBoxView",
      "box_style": "",
      "children": [
       "IPY_MODEL_590fa45091fb484c908aea5cbbeec9bf",
       "IPY_MODEL_b821b5dfa2ae4f1ea110636e255625db",
       "IPY_MODEL_9a568dd84c1049538aae322d6ddfe63b"
      ],
      "layout": "IPY_MODEL_71906522b53145c8b9d14a0eee0d37ef"
     }
    },
    "9132d93edbd6405a930c8513da3d4d69": {
     "model_module": "@jupyter-widgets/controls",
     "model_module_version": "1.5.0",
     "model_name": "HTMLModel",
     "state": {
      "_dom_classes": [],
      "_model_module": "@jupyter-widgets/controls",
      "_model_module_version": "1.5.0",
      "_model_name": "HTMLModel",
      "_view_count": null,
      "_view_module": "@jupyter-widgets/controls",
      "_view_module_version": "1.5.0",
      "_view_name": "HTMLView",
      "description": "",
      "description_tooltip": null,
      "layout": "IPY_MODEL_9855d8ff157f4811a3f160b8462de871",
      "placeholder": "​",
      "style": "IPY_MODEL_3b5cad718ea7467c80fa594545a1608d",
      "value": "Evaluating on cuda:0: 100%"
     }
    },
    "94eb5534ad6949108c1833f950dd9ea7": {
     "model_module": "@jupyter-widgets/controls",
     "model_module_version": "1.5.0",
     "model_name": "DescriptionStyleModel",
     "state": {
      "_model_module": "@jupyter-widgets/controls",
      "_model_module_version": "1.5.0",
      "_model_name": "DescriptionStyleModel",
      "_view_count": null,
      "_view_module": "@jupyter-widgets/base",
      "_view_module_version": "1.2.0",
      "_view_name": "StyleView",
      "description_width": ""
     }
    },
    "9855d8ff157f4811a3f160b8462de871": {
     "model_module": "@jupyter-widgets/base",
     "model_module_version": "1.2.0",
     "model_name": "LayoutModel",
     "state": {
      "_model_module": "@jupyter-widgets/base",
      "_model_module_version": "1.2.0",
      "_model_name": "LayoutModel",
      "_view_count": null,
      "_view_module": "@jupyter-widgets/base",
      "_view_module_version": "1.2.0",
      "_view_name": "LayoutView",
      "align_content": null,
      "align_items": null,
      "align_self": null,
      "border": null,
      "bottom": null,
      "display": null,
      "flex": null,
      "flex_flow": null,
      "grid_area": null,
      "grid_auto_columns": null,
      "grid_auto_flow": null,
      "grid_auto_rows": null,
      "grid_column": null,
      "grid_gap": null,
      "grid_row": null,
      "grid_template_areas": null,
      "grid_template_columns": null,
      "grid_template_rows": null,
      "height": null,
      "justify_content": null,
      "justify_items": null,
      "left": null,
      "margin": null,
      "max_height": null,
      "max_width": null,
      "min_height": null,
      "min_width": null,
      "object_fit": null,
      "object_position": null,
      "order": null,
      "overflow": null,
      "overflow_x": null,
      "overflow_y": null,
      "padding": null,
      "right": null,
      "top": null,
      "visibility": null,
      "width": null
     }
    },
    "9a568dd84c1049538aae322d6ddfe63b": {
     "model_module": "@jupyter-widgets/controls",
     "model_module_version": "1.5.0",
     "model_name": "HTMLModel",
     "state": {
      "_dom_classes": [],
      "_model_module": "@jupyter-widgets/controls",
      "_model_module_version": "1.5.0",
      "_model_name": "HTMLModel",
      "_view_count": null,
      "_view_module": "@jupyter-widgets/controls",
      "_view_module_version": "1.5.0",
      "_view_name": "HTMLView",
      "description": "",
      "description_tooltip": null,
      "layout": "IPY_MODEL_86572313f55a4623b37619fd7a1bd0c0",
      "placeholder": "​",
      "style": "IPY_MODEL_c1d6fd50070e43a7928d93594470af20",
      "value": " 1/1 [00:26&lt;00:00, 26.41s/epoch, loss=0.464, prev_loss=nan]"
     }
    },
    "9dffe810bf234eefac0613e6cd4f7aba": {
     "model_module": "@jupyter-widgets/controls",
     "model_module_version": "1.5.0",
     "model_name": "FloatProgressModel",
     "state": {
      "_dom_classes": [],
      "_model_module": "@jupyter-widgets/controls",
      "_model_module_version": "1.5.0",
      "_model_name": "FloatProgressModel",
      "_view_count": null,
      "_view_module": "@jupyter-widgets/controls",
      "_view_module_version": "1.5.0",
      "_view_name": "ProgressView",
      "bar_style": "",
      "description": "",
      "description_tooltip": null,
      "layout": "IPY_MODEL_d4902234ead2442eb06b5d8cd66c723f",
      "max": 3020,
      "min": 0,
      "orientation": "horizontal",
      "style": "IPY_MODEL_1d55e65cbaf040788f17c744bd7d9cf2",
      "value": 3020
     }
    },
    "a749e32234f54d75ba27814a0e3154e7": {
     "model_module": "@jupyter-widgets/controls",
     "model_module_version": "1.5.0",
     "model_name": "HTMLModel",
     "state": {
      "_dom_classes": [],
      "_model_module": "@jupyter-widgets/controls",
      "_model_module_version": "1.5.0",
      "_model_name": "HTMLModel",
      "_view_count": null,
      "_view_module": "@jupyter-widgets/controls",
      "_view_module_version": "1.5.0",
      "_view_name": "HTMLView",
      "description": "",
      "description_tooltip": null,
      "layout": "IPY_MODEL_74b96ec4e79a409b9daa2d442ab4ceb8",
      "placeholder": "​",
      "style": "IPY_MODEL_e8e9b719ccde4200a3c526a200cc8517",
      "value": " 3011/3020 [00:25&lt;00:00, 119.10batch/s]"
     }
    },
    "a8d7962c6cf54f608339adeb813d2014": {
     "model_module": "@jupyter-widgets/controls",
     "model_module_version": "1.5.0",
     "model_name": "DescriptionStyleModel",
     "state": {
      "_model_module": "@jupyter-widgets/controls",
      "_model_module_version": "1.5.0",
      "_model_name": "DescriptionStyleModel",
      "_view_count": null,
      "_view_module": "@jupyter-widgets/base",
      "_view_module_version": "1.2.0",
      "_view_name": "StyleView",
      "description_width": ""
     }
    },
    "b821b5dfa2ae4f1ea110636e255625db": {
     "model_module": "@jupyter-widgets/controls",
     "model_module_version": "1.5.0",
     "model_name": "FloatProgressModel",
     "state": {
      "_dom_classes": [],
      "_model_module": "@jupyter-widgets/controls",
      "_model_module_version": "1.5.0",
      "_model_name": "FloatProgressModel",
      "_view_count": null,
      "_view_module": "@jupyter-widgets/controls",
      "_view_module_version": "1.5.0",
      "_view_name": "ProgressView",
      "bar_style": "success",
      "description": "",
      "description_tooltip": null,
      "layout": "IPY_MODEL_7dc8dd559f6d440db5b1e7149d6928b9",
      "max": 1,
      "min": 0,
      "orientation": "horizontal",
      "style": "IPY_MODEL_08d8b11cf89e43098b6a65f690f1ed99",
      "value": 1
     }
    },
    "be888457deb94d7cb3bc6de797d33665": {
     "model_module": "@jupyter-widgets/controls",
     "model_module_version": "1.5.0",
     "model_name": "FloatProgressModel",
     "state": {
      "_dom_classes": [],
      "_model_module": "@jupyter-widgets/controls",
      "_model_module_version": "1.5.0",
      "_model_name": "FloatProgressModel",
      "_view_count": null,
      "_view_module": "@jupyter-widgets/controls",
      "_view_module_version": "1.5.0",
      "_view_name": "ProgressView",
      "bar_style": "success",
      "description": "",
      "description_tooltip": null,
      "layout": "IPY_MODEL_ddc22a0d6308473a9ea3b2da4b0e9ddf",
      "max": 193259,
      "min": 0,
      "orientation": "horizontal",
      "style": "IPY_MODEL_5edcb74624b142318201b4f7112ad0bd",
      "value": 193259
     }
    },
    "c1d6fd50070e43a7928d93594470af20": {
     "model_module": "@jupyter-widgets/controls",
     "model_module_version": "1.5.0",
     "model_name": "DescriptionStyleModel",
     "state": {
      "_model_module": "@jupyter-widgets/controls",
      "_model_module_version": "1.5.0",
      "_model_name": "DescriptionStyleModel",
      "_view_count": null,
      "_view_module": "@jupyter-widgets/base",
      "_view_module_version": "1.2.0",
      "_view_name": "StyleView",
      "description_width": ""
     }
    },
    "d4902234ead2442eb06b5d8cd66c723f": {
     "model_module": "@jupyter-widgets/base",
     "model_module_version": "1.2.0",
     "model_name": "LayoutModel",
     "state": {
      "_model_module": "@jupyter-widgets/base",
      "_model_module_version": "1.2.0",
      "_model_name": "LayoutModel",
      "_view_count": null,
      "_view_module": "@jupyter-widgets/base",
      "_view_module_version": "1.2.0",
      "_view_name": "LayoutView",
      "align_content": null,
      "align_items": null,
      "align_self": null,
      "border": null,
      "bottom": null,
      "display": null,
      "flex": null,
      "flex_flow": null,
      "grid_area": null,
      "grid_auto_columns": null,
      "grid_auto_flow": null,
      "grid_auto_rows": null,
      "grid_column": null,
      "grid_gap": null,
      "grid_row": null,
      "grid_template_areas": null,
      "grid_template_columns": null,
      "grid_template_rows": null,
      "height": null,
      "justify_content": null,
      "justify_items": null,
      "left": null,
      "margin": null,
      "max_height": null,
      "max_width": null,
      "min_height": null,
      "min_width": null,
      "object_fit": null,
      "object_position": null,
      "order": null,
      "overflow": null,
      "overflow_x": null,
      "overflow_y": null,
      "padding": null,
      "right": null,
      "top": null,
      "visibility": null,
      "width": null
     }
    },
    "ddc22a0d6308473a9ea3b2da4b0e9ddf": {
     "model_module": "@jupyter-widgets/base",
     "model_module_version": "1.2.0",
     "model_name": "LayoutModel",
     "state": {
      "_model_module": "@jupyter-widgets/base",
      "_model_module_version": "1.2.0",
      "_model_name": "LayoutModel",
      "_view_count": null,
      "_view_module": "@jupyter-widgets/base",
      "_view_module_version": "1.2.0",
      "_view_name": "LayoutView",
      "align_content": null,
      "align_items": null,
      "align_self": null,
      "border": null,
      "bottom": null,
      "display": null,
      "flex": null,
      "flex_flow": null,
      "grid_area": null,
      "grid_auto_columns": null,
      "grid_auto_flow": null,
      "grid_auto_rows": null,
      "grid_column": null,
      "grid_gap": null,
      "grid_row": null,
      "grid_template_areas": null,
      "grid_template_columns": null,
      "grid_template_rows": null,
      "height": null,
      "justify_content": null,
      "justify_items": null,
      "left": null,
      "margin": null,
      "max_height": null,
      "max_width": null,
      "min_height": null,
      "min_width": null,
      "object_fit": null,
      "object_position": null,
      "order": null,
      "overflow": null,
      "overflow_x": null,
      "overflow_y": null,
      "padding": null,
      "right": null,
      "top": null,
      "visibility": null,
      "width": null
     }
    },
    "e3f10cb082cf4c0cbf4f4c579ff5cbdb": {
     "model_module": "@jupyter-widgets/controls",
     "model_module_version": "1.5.0",
     "model_name": "HTMLModel",
     "state": {
      "_dom_classes": [],
      "_model_module": "@jupyter-widgets/controls",
      "_model_module_version": "1.5.0",
      "_model_name": "HTMLModel",
      "_view_count": null,
      "_view_module": "@jupyter-widgets/controls",
      "_view_module_version": "1.5.0",
      "_view_name": "HTMLView",
      "description": "",
      "description_tooltip": null,
      "layout": "IPY_MODEL_7e59c0c0dc404ae1a3291765be5384fb",
      "placeholder": "​",
      "style": "IPY_MODEL_192d5cf1fb9143d080a83fcb3635296b",
      "value": " 193k/193k [05:10&lt;00:00, 617triple/s]"
     }
    },
    "e8e9b719ccde4200a3c526a200cc8517": {
     "model_module": "@jupyter-widgets/controls",
     "model_module_version": "1.5.0",
     "model_name": "DescriptionStyleModel",
     "state": {
      "_model_module": "@jupyter-widgets/controls",
      "_model_module_version": "1.5.0",
      "_model_name": "DescriptionStyleModel",
      "_view_count": null,
      "_view_module": "@jupyter-widgets/base",
      "_view_module_version": "1.2.0",
      "_view_name": "StyleView",
      "description_width": ""
     }
    },
    "ee26767d34794b71b46cc1d747942958": {
     "model_module": "@jupyter-widgets/base",
     "model_module_version": "1.2.0",
     "model_name": "LayoutModel",
     "state": {
      "_model_module": "@jupyter-widgets/base",
      "_model_module_version": "1.2.0",
      "_model_name": "LayoutModel",
      "_view_count": null,
      "_view_module": "@jupyter-widgets/base",
      "_view_module_version": "1.2.0",
      "_view_name": "LayoutView",
      "align_content": null,
      "align_items": null,
      "align_self": null,
      "border": null,
      "bottom": null,
      "display": null,
      "flex": null,
      "flex_flow": null,
      "grid_area": null,
      "grid_auto_columns": null,
      "grid_auto_flow": null,
      "grid_auto_rows": null,
      "grid_column": null,
      "grid_gap": null,
      "grid_row": null,
      "grid_template_areas": null,
      "grid_template_columns": null,
      "grid_template_rows": null,
      "height": null,
      "justify_content": null,
      "justify_items": null,
      "left": null,
      "margin": null,
      "max_height": null,
      "max_width": null,
      "min_height": null,
      "min_width": null,
      "object_fit": null,
      "object_position": null,
      "order": null,
      "overflow": null,
      "overflow_x": null,
      "overflow_y": null,
      "padding": null,
      "right": null,
      "top": null,
      "visibility": null,
      "width": null
     }
    },
    "efe62a4c09de41c3b0ffd2ef2a3af45f": {
     "model_module": "@jupyter-widgets/base",
     "model_module_version": "1.2.0",
     "model_name": "LayoutModel",
     "state": {
      "_model_module": "@jupyter-widgets/base",
      "_model_module_version": "1.2.0",
      "_model_name": "LayoutModel",
      "_view_count": null,
      "_view_module": "@jupyter-widgets/base",
      "_view_module_version": "1.2.0",
      "_view_name": "LayoutView",
      "align_content": null,
      "align_items": null,
      "align_self": null,
      "border": null,
      "bottom": null,
      "display": null,
      "flex": null,
      "flex_flow": null,
      "grid_area": null,
      "grid_auto_columns": null,
      "grid_auto_flow": null,
      "grid_auto_rows": null,
      "grid_column": null,
      "grid_gap": null,
      "grid_row": null,
      "grid_template_areas": null,
      "grid_template_columns": null,
      "grid_template_rows": null,
      "height": null,
      "justify_content": null,
      "justify_items": null,
      "left": null,
      "margin": null,
      "max_height": null,
      "max_width": null,
      "min_height": null,
      "min_width": null,
      "object_fit": null,
      "object_position": null,
      "order": null,
      "overflow": null,
      "overflow_x": null,
      "overflow_y": null,
      "padding": null,
      "right": null,
      "top": null,
      "visibility": null,
      "width": null
     }
    },
    "ff1dce872b0444c1863f031aeb55c16b": {
     "model_module": "@jupyter-widgets/controls",
     "model_module_version": "1.5.0",
     "model_name": "HBoxModel",
     "state": {
      "_dom_classes": [],
      "_model_module": "@jupyter-widgets/controls",
      "_model_module_version": "1.5.0",
      "_model_name": "HBoxModel",
      "_view_count": null,
      "_view_module": "@jupyter-widgets/controls",
      "_view_module_version": "1.5.0",
      "_view_name": "HBoxView",
      "box_style": "",
      "children": [
       "IPY_MODEL_2efd3357ddbf46858eae91f8b1fce4ae",
       "IPY_MODEL_9dffe810bf234eefac0613e6cd4f7aba",
       "IPY_MODEL_a749e32234f54d75ba27814a0e3154e7"
      ],
      "layout": "IPY_MODEL_1732e19e091744a7826eff803ae058fc"
     }
    }
   }
  }
 },
 "nbformat": 4,
 "nbformat_minor": 4
}
